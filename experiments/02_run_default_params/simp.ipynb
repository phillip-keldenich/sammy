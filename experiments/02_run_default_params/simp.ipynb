{
 "cells": [
  {
   "cell_type": "code",
   "execution_count": 78,
   "id": "910bf669-939c-4a47-8fd7-4e12170030eb",
   "metadata": {},
   "outputs": [],
   "source": [
    "import os\n",
    "import zipfile\n",
    "import json\n",
    "import pandas as pd\n",
    "import seaborn as sns\n",
    "import matplotlib.pyplot as plt\n",
    "import subprocess\n",
    "sns.set_theme()"
   ]
  },
  {
   "cell_type": "code",
   "execution_count": 56,
   "id": "6e7f7208-ad83-4fb8-9cdf-fb2d4f5e837f",
   "metadata": {},
   "outputs": [],
   "source": [
    "path_initial_simp = \"/Users/me/software-configuration-problem/cpp-approach/experiments/run_initial_heuristic/01_output\"\n",
    "path_initial_nosimp = \"/Users/me/software-configuration-problem/cpp-approach/experiments/run_initial_no_simplification/01_output\""
   ]
  },
  {
   "cell_type": "code",
   "execution_count": 84,
   "id": "b648aaba-9927-4701-b8eb-212893e3af44",
   "metadata": {},
   "outputs": [],
   "source": [
    "simp_data = []\n",
    "with open(path_initial_simp + \"/output.jsonl\", \"rb\") as f:\n",
    "    for line in f:\n",
    "        line = line.decode('utf-8')\n",
    "        line_data = json.loads(line)\n",
    "        first_sol_time = 72000.0\n",
    "        for event in line_data[\"events\"]:\n",
    "            if event['type'] == 'FIRST_SOLVE_DONE':\n",
    "                first_sol_time = event['time']\n",
    "                break\n",
    "        simp_stats = line_data['simplification']['simplification_stats']\n",
    "        simp_data.append({\n",
    "            \"instance_name\": line_data[\"instance_name\"],\n",
    "            \"first_solution_time\": first_sol_time,\n",
    "            \"variables_before\": simp_stats[\"variables_before\"],\n",
    "            \"variables_after\": simp_stats[\"variables_after\"],\n",
    "            \"formula_length_before\": simp_stats[\"formula_length_before\"],\n",
    "            \"formula_length_after\": simp_stats[\"formula_length_after\"],\n",
    "            \"concrete_after\": simp_stats[\"concrete_after\"],\n",
    "            \"concrete_before\": simp_stats[\"concrete_before\"]\n",
    "        })"
   ]
  },
  {
   "cell_type": "code",
   "execution_count": 57,
   "id": "8a408423-21fb-427c-ba1a-53f068110197",
   "metadata": {},
   "outputs": [],
   "source": [
    "nosimp_data = []\n",
    "with open(path_initial_nosimp + \"/output.jsonl\", \"rb\") as f:\n",
    "    for line in f:\n",
    "        line = line.decode('utf-8')\n",
    "        line_data = json.loads(line)\n",
    "        first_sol_time = 72000.0\n",
    "        for event in line_data[\"events\"]:\n",
    "            if event['type'] == 'FIRST_SOLVE_DONE':\n",
    "                first_sol_time = event['time']\n",
    "                break\n",
    "        nosimp_data.append({\"instance_name\": line_data[\"instance_name\"],\n",
    "                            \"first_solution_time_nosimp\": first_sol_time})"
   ]
  },
  {
   "cell_type": "code",
   "execution_count": 85,
   "id": "769a6cdb-c1df-42d3-b37f-897dc2d60aae",
   "metadata": {},
   "outputs": [
    {
     "data": {
      "text/html": [
       "<div>\n",
       "<style scoped>\n",
       "    .dataframe tbody tr th:only-of-type {\n",
       "        vertical-align: middle;\n",
       "    }\n",
       "\n",
       "    .dataframe tbody tr th {\n",
       "        vertical-align: top;\n",
       "    }\n",
       "\n",
       "    .dataframe thead th {\n",
       "        text-align: right;\n",
       "    }\n",
       "</style>\n",
       "<table border=\"1\" class=\"dataframe\">\n",
       "  <thead>\n",
       "    <tr style=\"text-align: right;\">\n",
       "      <th></th>\n",
       "      <th>instance_name</th>\n",
       "      <th>first_solution_time</th>\n",
       "      <th>variables_before</th>\n",
       "      <th>variables_after</th>\n",
       "      <th>formula_length_before</th>\n",
       "      <th>formula_length_after</th>\n",
       "      <th>concrete_after</th>\n",
       "      <th>concrete_before</th>\n",
       "    </tr>\n",
       "  </thead>\n",
       "  <tbody>\n",
       "    <tr>\n",
       "      <th>0</th>\n",
       "      <td>busybox-2007-03-24_15-37-57</td>\n",
       "      <td>0.010588</td>\n",
       "      <td>422</td>\n",
       "      <td>411</td>\n",
       "      <td>1839</td>\n",
       "      <td>854</td>\n",
       "      <td>411</td>\n",
       "      <td>421</td>\n",
       "    </tr>\n",
       "    <tr>\n",
       "      <th>1</th>\n",
       "      <td>busybox-2009-11-23_06-20-09</td>\n",
       "      <td>0.015662</td>\n",
       "      <td>607</td>\n",
       "      <td>580</td>\n",
       "      <td>2689</td>\n",
       "      <td>1205</td>\n",
       "      <td>580</td>\n",
       "      <td>606</td>\n",
       "    </tr>\n",
       "    <tr>\n",
       "      <th>2</th>\n",
       "      <td>busybox-2017-07-15_17-34-33</td>\n",
       "      <td>0.024247</td>\n",
       "      <td>828</td>\n",
       "      <td>790</td>\n",
       "      <td>4155</td>\n",
       "      <td>1991</td>\n",
       "      <td>790</td>\n",
       "      <td>827</td>\n",
       "    </tr>\n",
       "    <tr>\n",
       "      <th>3</th>\n",
       "      <td>busybox-2008-02-19_23-42-22</td>\n",
       "      <td>0.013897</td>\n",
       "      <td>547</td>\n",
       "      <td>532</td>\n",
       "      <td>2350</td>\n",
       "      <td>1091</td>\n",
       "      <td>532</td>\n",
       "      <td>546</td>\n",
       "    </tr>\n",
       "    <tr>\n",
       "      <th>4</th>\n",
       "      <td>busybox-2007-03-09_16-56-38</td>\n",
       "      <td>0.010299</td>\n",
       "      <td>417</td>\n",
       "      <td>406</td>\n",
       "      <td>1795</td>\n",
       "      <td>842</td>\n",
       "      <td>406</td>\n",
       "      <td>416</td>\n",
       "    </tr>\n",
       "    <tr>\n",
       "      <th>...</th>\n",
       "      <td>...</td>\n",
       "      <td>...</td>\n",
       "      <td>...</td>\n",
       "      <td>...</td>\n",
       "      <td>...</td>\n",
       "      <td>...</td>\n",
       "      <td>...</td>\n",
       "      <td>...</td>\n",
       "    </tr>\n",
       "    <tr>\n",
       "      <th>957</th>\n",
       "      <td>busybox-2010-01-31_18-12-57</td>\n",
       "      <td>0.016666</td>\n",
       "      <td>619</td>\n",
       "      <td>590</td>\n",
       "      <td>2750</td>\n",
       "      <td>1225</td>\n",
       "      <td>590</td>\n",
       "      <td>618</td>\n",
       "    </tr>\n",
       "    <tr>\n",
       "      <th>958</th>\n",
       "      <td>uclibc-2016-11-27_16-35-32</td>\n",
       "      <td>0.022701</td>\n",
       "      <td>238</td>\n",
       "      <td>210</td>\n",
       "      <td>3832</td>\n",
       "      <td>1112</td>\n",
       "      <td>210</td>\n",
       "      <td>237</td>\n",
       "    </tr>\n",
       "    <tr>\n",
       "      <th>959</th>\n",
       "      <td>fiasco-2018-08-20_14-36-18</td>\n",
       "      <td>0.037418</td>\n",
       "      <td>235</td>\n",
       "      <td>187</td>\n",
       "      <td>3898</td>\n",
       "      <td>1837</td>\n",
       "      <td>187</td>\n",
       "      <td>234</td>\n",
       "    </tr>\n",
       "    <tr>\n",
       "      <th>960</th>\n",
       "      <td>uclibc-2009-08-01_01-40-34</td>\n",
       "      <td>0.029776</td>\n",
       "      <td>238</td>\n",
       "      <td>216</td>\n",
       "      <td>5129</td>\n",
       "      <td>1699</td>\n",
       "      <td>216</td>\n",
       "      <td>237</td>\n",
       "    </tr>\n",
       "    <tr>\n",
       "      <th>961</th>\n",
       "      <td>toybox-2007-11-10_09-10-51</td>\n",
       "      <td>0.001433</td>\n",
       "      <td>31</td>\n",
       "      <td>26</td>\n",
       "      <td>105</td>\n",
       "      <td>40</td>\n",
       "      <td>26</td>\n",
       "      <td>30</td>\n",
       "    </tr>\n",
       "  </tbody>\n",
       "</table>\n",
       "<p>962 rows × 8 columns</p>\n",
       "</div>"
      ],
      "text/plain": [
       "                   instance_name  first_solution_time  variables_before  \\\n",
       "0    busybox-2007-03-24_15-37-57             0.010588               422   \n",
       "1    busybox-2009-11-23_06-20-09             0.015662               607   \n",
       "2    busybox-2017-07-15_17-34-33             0.024247               828   \n",
       "3    busybox-2008-02-19_23-42-22             0.013897               547   \n",
       "4    busybox-2007-03-09_16-56-38             0.010299               417   \n",
       "..                           ...                  ...               ...   \n",
       "957  busybox-2010-01-31_18-12-57             0.016666               619   \n",
       "958   uclibc-2016-11-27_16-35-32             0.022701               238   \n",
       "959   fiasco-2018-08-20_14-36-18             0.037418               235   \n",
       "960   uclibc-2009-08-01_01-40-34             0.029776               238   \n",
       "961   toybox-2007-11-10_09-10-51             0.001433                31   \n",
       "\n",
       "     variables_after  formula_length_before  formula_length_after  \\\n",
       "0                411                   1839                   854   \n",
       "1                580                   2689                  1205   \n",
       "2                790                   4155                  1991   \n",
       "3                532                   2350                  1091   \n",
       "4                406                   1795                   842   \n",
       "..               ...                    ...                   ...   \n",
       "957              590                   2750                  1225   \n",
       "958              210                   3832                  1112   \n",
       "959              187                   3898                  1837   \n",
       "960              216                   5129                  1699   \n",
       "961               26                    105                    40   \n",
       "\n",
       "     concrete_after  concrete_before  \n",
       "0               411              421  \n",
       "1               580              606  \n",
       "2               790              827  \n",
       "3               532              546  \n",
       "4               406              416  \n",
       "..              ...              ...  \n",
       "957             590              618  \n",
       "958             210              237  \n",
       "959             187              234  \n",
       "960             216              237  \n",
       "961              26               30  \n",
       "\n",
       "[962 rows x 8 columns]"
      ]
     },
     "execution_count": 85,
     "metadata": {},
     "output_type": "execute_result"
    }
   ],
   "source": [
    "df_simp = pd.DataFrame(simp_data)\n",
    "df_simp"
   ]
  },
  {
   "cell_type": "code",
   "execution_count": 86,
   "id": "a62c5f44-bcbf-4a3a-85fc-879b32ce6669",
   "metadata": {},
   "outputs": [
    {
     "data": {
      "text/html": [
       "<div>\n",
       "<style scoped>\n",
       "    .dataframe tbody tr th:only-of-type {\n",
       "        vertical-align: middle;\n",
       "    }\n",
       "\n",
       "    .dataframe tbody tr th {\n",
       "        vertical-align: top;\n",
       "    }\n",
       "\n",
       "    .dataframe thead th {\n",
       "        text-align: right;\n",
       "    }\n",
       "</style>\n",
       "<table border=\"1\" class=\"dataframe\">\n",
       "  <thead>\n",
       "    <tr style=\"text-align: right;\">\n",
       "      <th></th>\n",
       "      <th>instance_name</th>\n",
       "      <th>first_solution_time_nosimp</th>\n",
       "    </tr>\n",
       "  </thead>\n",
       "  <tbody>\n",
       "    <tr>\n",
       "      <th>0</th>\n",
       "      <td>soletta-2015-08-21_13-54-55</td>\n",
       "      <td>0.007212</td>\n",
       "    </tr>\n",
       "    <tr>\n",
       "      <th>1</th>\n",
       "      <td>busybox-2008-02-15_15-17-23</td>\n",
       "      <td>0.012200</td>\n",
       "    </tr>\n",
       "    <tr>\n",
       "      <th>2</th>\n",
       "      <td>busybox-2009-10-09_22-11-30</td>\n",
       "      <td>0.015245</td>\n",
       "    </tr>\n",
       "    <tr>\n",
       "      <th>3</th>\n",
       "      <td>busybox-2008-10-13_08-53-43</td>\n",
       "      <td>0.013745</td>\n",
       "    </tr>\n",
       "    <tr>\n",
       "      <th>4</th>\n",
       "      <td>busybox-2007-06-21_12-41-59</td>\n",
       "      <td>0.010293</td>\n",
       "    </tr>\n",
       "    <tr>\n",
       "      <th>...</th>\n",
       "      <td>...</td>\n",
       "      <td>...</td>\n",
       "    </tr>\n",
       "    <tr>\n",
       "      <th>957</th>\n",
       "      <td>busybox-2008-04-13_22-41-27</td>\n",
       "      <td>0.012797</td>\n",
       "    </tr>\n",
       "    <tr>\n",
       "      <th>958</th>\n",
       "      <td>soletta-2015-11-03_18-43-35</td>\n",
       "      <td>0.009035</td>\n",
       "    </tr>\n",
       "    <tr>\n",
       "      <th>959</th>\n",
       "      <td>busybox-2008-11-06_23-42-42</td>\n",
       "      <td>0.013452</td>\n",
       "    </tr>\n",
       "    <tr>\n",
       "      <th>960</th>\n",
       "      <td>busybox-2007-06-20_15-23-03</td>\n",
       "      <td>0.010201</td>\n",
       "    </tr>\n",
       "    <tr>\n",
       "      <th>961</th>\n",
       "      <td>uclibc-2012-06-15_14-00-36</td>\n",
       "      <td>0.034016</td>\n",
       "    </tr>\n",
       "  </tbody>\n",
       "</table>\n",
       "<p>962 rows × 2 columns</p>\n",
       "</div>"
      ],
      "text/plain": [
       "                   instance_name  first_solution_time_nosimp\n",
       "0    soletta-2015-08-21_13-54-55                    0.007212\n",
       "1    busybox-2008-02-15_15-17-23                    0.012200\n",
       "2    busybox-2009-10-09_22-11-30                    0.015245\n",
       "3    busybox-2008-10-13_08-53-43                    0.013745\n",
       "4    busybox-2007-06-21_12-41-59                    0.010293\n",
       "..                           ...                         ...\n",
       "957  busybox-2008-04-13_22-41-27                    0.012797\n",
       "958  soletta-2015-11-03_18-43-35                    0.009035\n",
       "959  busybox-2008-11-06_23-42-42                    0.013452\n",
       "960  busybox-2007-06-20_15-23-03                    0.010201\n",
       "961   uclibc-2012-06-15_14-00-36                    0.034016\n",
       "\n",
       "[962 rows x 2 columns]"
      ]
     },
     "execution_count": 86,
     "metadata": {},
     "output_type": "execute_result"
    }
   ],
   "source": [
    "df_nosimp = pd.DataFrame(nosimp_data)\n",
    "df_nosimp"
   ]
  },
  {
   "cell_type": "code",
   "execution_count": 87,
   "id": "668d5eef-b333-46e3-8c00-054ad5a12d8e",
   "metadata": {},
   "outputs": [],
   "source": [
    "data = pd.DataFrame(df_simp.merge(df_nosimp, left_on=\"instance_name\", right_on=\"instance_name\"))"
   ]
  },
  {
   "cell_type": "code",
   "execution_count": 88,
   "id": "9a45062b-08f1-4e56-8aec-75318f665a16",
   "metadata": {},
   "outputs": [],
   "source": [
    "data.reset_index(inplace=True, drop=True)"
   ]
  },
  {
   "cell_type": "code",
   "execution_count": 89,
   "id": "5d59be2a-1245-4f7d-9879-e9969aba7307",
   "metadata": {},
   "outputs": [
    {
     "data": {
      "image/png": "[encoded data removed]",
      "text/plain": [
       "<Figure size 640x480 with 1 Axes>"
      ]
     },
     "metadata": {},
     "output_type": "display_data"
    }
   ],
   "source": [
    "sns.scatterplot(data=data, x=\"formula_length_before\", y=\"formula_length_after\", label=\"with simplification\")\n",
    "sns.scatterplot(data=data, x=\"formula_length_before\", y=\"formula_length_before\", label=\"without simplification\")\n",
    "plt.gca().set_xlabel(\"Initial formula size\")\n",
    "plt.gca().set_ylabel(\"Simplified formula size\")\n",
    "plt.savefig(\"simplification_formula_size.pdf\", bbox_inches=\"tight\")"
   ]
  },
  {
   "cell_type": "code",
   "execution_count": 116,
   "id": "a9bd139e-dd17-495a-836f-a2ff4d88a170",
   "metadata": {},
   "outputs": [
    {
     "data": {
      "text/plain": [
       "CompletedProcess(args=['open', '.'], returncode=0)"
      ]
     },
     "execution_count": 116,
     "metadata": {},
     "output_type": "execute_result"
    }
   ],
   "source": [
    "subprocess.run([\"open\", \".\"])"
   ]
  },
  {
   "cell_type": "code",
   "execution_count": 97,
   "id": "2c230f53-f7dc-4528-a943-612f89b31903",
   "metadata": {},
   "outputs": [],
   "source": [
    "data[\"formula_reduction\"] = 100 * data[\"formula_length_after\"] / data[\"formula_length_before\"]"
   ]
  },
  {
   "cell_type": "code",
   "execution_count": 98,
   "id": "4e6385d7-e3e7-48d0-909e-a8d91d2c2ae3",
   "metadata": {},
   "outputs": [],
   "source": [
    "data[\"variable_reduction\"] = 100 * data[\"variables_after\"] / data[\"variables_before\"]"
   ]
  },
  {
   "cell_type": "code",
   "execution_count": 99,
   "id": "2865fdfe-c39f-4114-bdd0-63aacd3dec2f",
   "metadata": {},
   "outputs": [],
   "source": [
    "data[\"concrete_reduction\"] = 100 * data[\"concrete_after\"] / data[\"concrete_before\"]"
   ]
  },
  {
   "cell_type": "code",
   "execution_count": 111,
   "id": "7e745227-9b54-4bb7-872f-1b5b265890e9",
   "metadata": {},
   "outputs": [
    {
     "data": {
      "image/png": "[encoded data removed]",
      "text/plain": [
       "<Figure size 500x500 with 1 Axes>"
      ]
     },
     "metadata": {},
     "output_type": "display_data"
    }
   ],
   "source": [
    "reductions = []\n",
    "for row in data.itertuples():\n",
    "    reductions.append({\"instance_name\": row.instance_name, \"reduction_type\": \"formula\",\n",
    "                       \"remaining_pct\": row.formula_reduction})\n",
    "    reductions.append({\"instance_name\": row.instance_name, \"reduction_type\": \"variables\",\n",
    "                       \"remaining_pct\": row.variable_reduction})\n",
    "    reductions.append({\"instance_name\": row.instance_name, \"reduction_type\": \"concrete\",\n",
    "                       \"remaining_pct\": row.concrete_reduction})\n",
    "\n",
    "sns.catplot(data=pd.DataFrame(reductions), x=\"remaining_pct\", y=\"reduction_type\", kind=\"box\",\n",
    "            hue=\"reduction_type\")\n",
    "plt.gca().set_xlabel(\"% remaining\")\n",
    "plt.gca().set_ylabel(\"\")\n",
    "plt.savefig(\"simplification_types.pdf\", bbox_inches=\"tight\")"
   ]
  },
  {
   "cell_type": "code",
   "execution_count": null,
   "id": "7c560e2b-ec3d-47b4-9bbb-478ccc809dbd",
   "metadata": {},
   "outputs": [],
   "source": []
  }
 ],
 "metadata": {
  "kernelspec": {
   "display_name": "Python 3 (ipykernel)",
   "language": "python",
   "name": "python3"
  },
  "language_info": {
   "codemirror_mode": {
    "name": "ipython",
    "version": 3
   },
   "file_extension": ".py",
   "mimetype": "text/x-python",
   "name": "python",
   "nbconvert_exporter": "python",
   "pygments_lexer": "ipython3",
   "version": "3.13.2"
  }
 },
 "nbformat": 4,
 "nbformat_minor": 5
}

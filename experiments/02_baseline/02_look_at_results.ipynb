{
 "cells": [
  {
   "cell_type": "code",
   "execution_count": 1,
   "id": "39cc104e-9d39-49f3-a33b-9c0408d7458a",
   "metadata": {},
   "outputs": [],
   "source": [
    "from algbench import read_as_pandas"
   ]
  },
  {
   "cell_type": "code",
   "execution_count": 10,
   "id": "4e2f9fb0-95b2-4cdc-b243-2554663ee3ab",
   "metadata": {},
   "outputs": [],
   "source": [
    "def read_row(row):\n",
    "    return {\n",
    "    \"samples\": row[\"result\"][\"samples\"],\n",
    "    \"solve_time\": row[\"result\"][\"solve_time\"],\n",
    "    \"algorithm\": row[\"parameters\"][\"args\"][\"alg_params\"][\"algorithm\"],\n",
    "    \"time_limit\": row[\"parameters\"][\"args\"][\"alg_params\"][\"time_limit\"]\n",
    "}\n",
    "t = read_as_pandas(\"01_baseline\", read_row)"
   ]
  },
  {
   "cell_type": "code",
   "execution_count": 11,
   "id": "b36afd76-c5df-4a50-b3de-58c2e5b87c5d",
   "metadata": {},
   "outputs": [
    {
     "name": "stdout",
     "output_type": "stream",
     "text": [
      "                                             samples  solve_time algorithm  \\\n",
      "0                                               None    1.264959      YASA   \n",
      "1                                               None    1.261488     YASA3   \n",
      "2                                               None    1.263947     YASA5   \n",
      "3                                               None    1.249570    YASA10   \n",
      "4  [{'CFG_FALSE': True, 'CFG_IPCS': False, 'CFG_B...    1.410284      YASA   \n",
      "5  [{'CFG_HELP_EXTRAS': False, 'CFG_ICONV': True,...    2.280629     YASA3   \n",
      "6  [{'CFG_CMP': True, 'CFG_WGET': True, 'CFG_ARP'...    3.307585     YASA5   \n",
      "7  [{'CFG_GZIP': True, 'CFG_MKFIFO': False, 'CFG_...    5.544697    YASA10   \n",
      "\n",
      "   time_limit  \n",
      "0           1  \n",
      "1           1  \n",
      "2           1  \n",
      "3           1  \n",
      "4         120  \n",
      "5         120  \n",
      "6         120  \n",
      "7         120  \n"
     ]
    }
   ],
   "source": [
    "print(t)"
   ]
  },
  {
   "cell_type": "code",
   "execution_count": null,
   "id": "84ae14e7-4ea9-41b9-aab5-a90d2a467fd2",
   "metadata": {},
   "outputs": [],
   "source": []
  }
 ],
 "metadata": {
  "kernelspec": {
   "display_name": "Python 3 (ipykernel)",
   "language": "python",
   "name": "python3"
  },
  "language_info": {
   "codemirror_mode": {
    "name": "ipython",
    "version": 3
   },
   "file_extension": ".py",
   "mimetype": "text/x-python",
   "name": "python",
   "nbconvert_exporter": "python",
   "pygments_lexer": "ipython3",
   "version": "3.12.9"
  }
 },
 "nbformat": 4,
 "nbformat_minor": 5
}

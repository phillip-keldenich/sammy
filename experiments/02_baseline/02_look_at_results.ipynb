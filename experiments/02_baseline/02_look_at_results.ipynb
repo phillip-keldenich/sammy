{
 "cells": [
  {
   "cell_type": "code",
   "execution_count": 1,
   "id": "39cc104e-9d39-49f3-a33b-9c0408d7458a",
   "metadata": {},
   "outputs": [],
   "source": [
    "from algbench import read_as_pandas"
   ]
  },
  {
   "cell_type": "code",
   "execution_count": 5,
   "id": "4e2f9fb0-95b2-4cdc-b243-2554663ee3ab",
   "metadata": {},
   "outputs": [],
   "source": [
    "def read_row(row):\n",
    "    return {\n",
    "    \"samples\": row[\"result\"][\"samples\"],\n",
    "    \"solve_time\": row[\"result\"][\"solve_time\"],\n",
    "    \"algorithm\": row[\"parameters\"][\"args\"][\"alg_params\"][\"algorithm\"],\n",
    "    \"time_limit\": row[\"parameters\"][\"args\"][\"alg_params\"][\"time_limit\"],\n",
    "        \"instance\": row[\"parameters\"][\"args\"][\"instance_name\"]\n",
    "}\n",
    "t = read_as_pandas(\"01_baseline\", read_row)"
   ]
  },
  {
   "cell_type": "code",
   "execution_count": 6,
   "id": "b36afd76-c5df-4a50-b3de-58c2e5b87c5d",
   "metadata": {},
   "outputs": [
    {
     "name": "stdout",
     "output_type": "stream",
     "text": [
      "   samples   solve_time algorithm  time_limit         instance\n",
      "0     None  3605.108989      YASA        3600  Automotive02_V2\n",
      "1     None  3604.938035     YASA3        3600  Automotive02_V2\n",
      "2     None  3605.122393     YASA5        3600  Automotive02_V2\n",
      "3     None  3605.043486    YASA10        3600  Automotive02_V2\n",
      "4     None  3605.100592     YASA5        3600  Automotive02_V4\n",
      "5     None  3605.210768    YASA10        3600  Automotive02_V4\n",
      "6     None  3605.290363      YASA        3600  Automotive02_V4\n",
      "7     None  3605.168341     YASA3        3600  Automotive02_V4\n",
      "8     None  3605.033572     YASA5        3600  Automotive02_V3\n",
      "9     None  3605.018976    YASA10        3600  Automotive02_V3\n",
      "10    None  3603.656422     YASA5        3600  Automotive02_V1\n",
      "11    None  3603.930503    YASA10        3600  Automotive02_V1\n",
      "12    None  3605.226655      YASA        3600  Automotive02_V3\n",
      "13    None  3605.044955     YASA3        3600  Automotive02_V3\n",
      "14    None  3603.946734      YASA        3600  Automotive02_V1\n",
      "15    None  3603.707029     YASA3        3600  Automotive02_V1\n"
     ]
    }
   ],
   "source": [
    "print(t)"
   ]
  },
  {
   "cell_type": "code",
   "execution_count": null,
   "id": "84ae14e7-4ea9-41b9-aab5-a90d2a467fd2",
   "metadata": {},
   "outputs": [],
   "source": []
  }
 ],
 "metadata": {
  "kernelspec": {
   "display_name": "Python 3 (ipykernel)",
   "language": "python",
   "name": "python3"
  },
  "language_info": {
   "codemirror_mode": {
    "name": "ipython",
    "version": 3
   },
   "file_extension": ".py",
   "mimetype": "text/x-python",
   "name": "python",
   "nbconvert_exporter": "python",
   "pygments_lexer": "ipython3",
   "version": "3.12.9"
  }
 },
 "nbformat": 4,
 "nbformat_minor": 5
}

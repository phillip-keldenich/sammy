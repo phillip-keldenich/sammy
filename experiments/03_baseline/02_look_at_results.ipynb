{
 "cells": [
  {
   "cell_type": "code",
   "execution_count": 1,
   "id": "39cc104e-9d39-49f3-a33b-9c0408d7458a",
   "metadata": {},
   "outputs": [],
   "source": [
    "from algbench import read_as_pandas"
   ]
  },
  {
   "cell_type": "code",
   "execution_count": 7,
   "id": "4e2f9fb0-95b2-4cdc-b243-2554663ee3ab",
   "metadata": {},
   "outputs": [],
   "source": [
    "def read_row(row):\n",
    "    return {\n",
    "        \"n_samples\": len(row[\"result\"][\"samples\"]) if row[\"result\"][\"samples\"] else None,\n",
    "        \"solve_time\": row[\"result\"][\"solve_time\"],\n",
    "        \"algorithm\": row[\"parameters\"][\"args\"][\"alg_params\"][\"algorithm\"],\n",
    "        \"time_limit\": row[\"parameters\"][\"args\"][\"alg_params\"][\"time_limit\"],\n",
    "        \"instance\": row[\"parameters\"][\"args\"][\"instance_name\"]\n",
    "}\n",
    "t = read_as_pandas(\"baseline_3h\", read_row)"
   ]
  },
  {
   "cell_type": "code",
   "execution_count": 8,
   "id": "b36afd76-c5df-4a50-b3de-58c2e5b87c5d",
   "metadata": {},
   "outputs": [
    {
     "name": "stdout",
     "output_type": "stream",
     "text": [
      "     n_samples  solve_time algorithm  time_limit            instance\n",
      "0       4399.0   81.772683     YASA3       10800  financial_services\n",
      "1        546.0  304.786397      YASA       10800      linux_2_6_33_3\n",
      "2          7.0    0.271713     YASA3       10800               email\n",
      "3          6.0    0.269398     YASA5       10800               email\n",
      "4          6.0    0.268180    YASA10       10800               email\n",
      "..         ...         ...       ...         ...                 ...\n",
      "215       13.0    0.417587    YASA10       10800                 PPU\n",
      "216       11.0    0.267884      YASA       10800            SafeBali\n",
      "217       11.0    0.261559     YASA3       10800            SafeBali\n",
      "218       11.0    0.265972     YASA5       10800            SafeBali\n",
      "219     1883.0   52.136805     YASA3       10800          EMBToolkit\n",
      "\n",
      "[220 rows x 5 columns]\n"
     ]
    }
   ],
   "source": [
    "print(t)"
   ]
  },
  {
   "cell_type": "code",
   "execution_count": 19,
   "id": "01091ad8-c628-4a0b-95d6-6c0a9ac1a771",
   "metadata": {},
   "outputs": [],
   "source": [
    "t = t.sort_values(by=[\"instance\"])"
   ]
  },
  {
   "cell_type": "code",
   "execution_count": 11,
   "id": "0e564861-2f16-45a1-ba4f-cab150b00c3e",
   "metadata": {},
   "outputs": [],
   "source": [
    "instances = [\"Automotive01\" \"EMBToolkit\", \"FreeBSD-8_0_0\", \"linux_2_6_33_3\", \"financial-services-2018-04-23\", \"financial_services\", \"linux_2_6_28_6\",\n",
    "             \"Automotive02_V1\", \"Automotive02_V2\", \"Automotive02_V3\", \"Automotive02_V4\"]               "
   ]
  },
  {
   "cell_type": "code",
   "execution_count": 28,
   "id": "41873468-96b9-4634-8acf-3579ab76fd86",
   "metadata": {},
   "outputs": [
    {
     "name": "stdout",
     "output_type": "stream",
     "text": [
      "YASA\n",
      "                          instance  n_samples    solve_time algorithm\n",
      "108                Automotive02_V1        NaN  10803.832328      YASA\n",
      "174                Automotive02_V2        NaN  10805.103364      YASA\n",
      "178                Automotive02_V3        NaN  10805.196569      YASA\n",
      "182                Automotive02_V4        NaN  10805.148860      YASA\n",
      "143                  FreeBSD-8_0_0       90.0     12.361671      YASA\n",
      "5    financial-services-2018-04-23     4441.0     26.891519      YASA\n",
      "80              financial_services     4420.0     24.944547      YASA\n",
      "18                  linux_2_6_28_6      543.0    502.439337      YASA\n",
      "1                   linux_2_6_33_3      546.0    304.786397      YASA\n",
      "YASA3\n",
      "                          instance  n_samples    solve_time algorithm\n",
      "109                Automotive02_V1        NaN  10803.948184     YASA3\n",
      "175                Automotive02_V2        NaN  10805.180905     YASA3\n",
      "179                Automotive02_V3        NaN  10805.009507     YASA3\n",
      "183                Automotive02_V4        NaN  10805.194237     YASA3\n",
      "24                   FreeBSD-8_0_0       78.0     18.829849     YASA3\n",
      "198  financial-services-2018-04-23     4422.0     88.810392     YASA3\n",
      "0               financial_services     4399.0     81.772683     YASA3\n",
      "81                  linux_2_6_28_6      498.0   1228.056820     YASA3\n",
      "207                 linux_2_6_33_3      515.0    743.956765     YASA3\n",
      "YASA5\n",
      "                          instance  n_samples    solve_time algorithm\n",
      "110                Automotive02_V1        NaN  10803.898087     YASA5\n",
      "176                Automotive02_V2        NaN  10805.024164     YASA5\n",
      "180                Automotive02_V3        NaN  10805.122529     YASA5\n",
      "34                 Automotive02_V4        NaN  10805.215091     YASA5\n",
      "25                   FreeBSD-8_0_0       78.0     24.838903     YASA5\n",
      "55   financial-services-2018-04-23     4419.0    147.846003     YASA5\n",
      "165             financial_services     4400.0    145.242532     YASA5\n",
      "184                 linux_2_6_28_6      490.0   1829.418581     YASA5\n",
      "149                 linux_2_6_33_3      515.0   1064.668186     YASA5\n",
      "YASA10\n",
      "                          instance  n_samples    solve_time algorithm\n",
      "111                Automotive02_V1        NaN  10803.793854    YASA10\n",
      "177                Automotive02_V2        NaN  10805.171909    YASA10\n",
      "181                Automotive02_V3        NaN  10805.014439    YASA10\n",
      "35                 Automotive02_V4        NaN  10805.228582    YASA10\n",
      "26                   FreeBSD-8_0_0       77.0     40.169638    YASA10\n",
      "138  financial-services-2018-04-23     4406.0    318.391263    YASA10\n",
      "112             financial_services     4386.0    320.026673    YASA10\n",
      "213                 linux_2_6_28_6      487.0   3430.944257    YASA10\n",
      "206                 linux_2_6_33_3      504.0   2404.272200    YASA10\n"
     ]
    }
   ],
   "source": [
    "for alg in [\"YASA\", \"YASA3\", \"YASA5\", \"YASA10\"]:\n",
    "    print(alg)\n",
    "    print(t[(t[\"algorithm\"] == alg) & t['instance'].isin(instances)][[\"instance\", \"n_samples\", \"solve_time\", \"algorithm\"]])"
   ]
  },
  {
   "cell_type": "code",
   "execution_count": null,
   "id": "8aa04931-ff7c-48bf-b13d-9cc58f0cbeff",
   "metadata": {},
   "outputs": [],
   "source": []
  }
 ],
 "metadata": {
  "kernelspec": {
   "display_name": "Python 3 (ipykernel)",
   "language": "python",
   "name": "python3"
  },
  "language_info": {
   "codemirror_mode": {
    "name": "ipython",
    "version": 3
   },
   "file_extension": ".py",
   "mimetype": "text/x-python",
   "name": "python",
   "nbconvert_exporter": "python",
   "pygments_lexer": "ipython3",
   "version": "3.12.9"
  }
 },
 "nbformat": 4,
 "nbformat_minor": 5
}

{
 "cells": [
  {
   "cell_type": "code",
   "execution_count": 2,
   "id": "39cc104e-9d39-49f3-a33b-9c0408d7458a",
   "metadata": {},
   "outputs": [],
   "source": [
    "from algbench import read_as_pandas"
   ]
  },
  {
   "cell_type": "code",
   "execution_count": 5,
   "id": "4e2f9fb0-95b2-4cdc-b243-2554663ee3ab",
   "metadata": {},
   "outputs": [],
   "source": [
    "def read_row(row):\n",
    "    return {\n",
    "    \"samples\": row[\"result\"][\"samples\"],\n",
    "    \"solve_time\": row[\"result\"][\"solve_time\"],\n",
    "    \"algorithm\": row[\"parameters\"][\"args\"][\"alg_params\"][\"algorithm\"],\n",
    "    \"time_limit\": row[\"parameters\"][\"args\"][\"alg_params\"][\"time_limit\"],\n",
    "        \"instance\": row[\"parameters\"][\"args\"][\"instance_name\"]\n",
    "}\n",
    "t = read_as_pandas(\"baseline_1h\", read_row)"
   ]
  },
  {
   "cell_type": "code",
   "execution_count": 6,
   "id": "b36afd76-c5df-4a50-b3de-58c2e5b87c5d",
   "metadata": {},
   "outputs": [
    {
     "name": "stdout",
     "output_type": "stream",
     "text": [
      "                                             samples  solve_time algorithm  \\\n",
      "0  [{'CONFIG_CONFIG_TOYSH_JOBCTL': False, 'CONFIG...    0.520173      YASA   \n",
      "1  [{'CONFIG_CONFIG_TOYSH_WILDCARDS': False, 'CON...    0.548679     YASA3   \n",
      "2  [{'CONFIG_CONFIG_DF': True, 'CONFIG_CONFIG_TOY...    0.538932     YASA5   \n",
      "3  [{'CONFIG_CONFIG_TOYSH_ENVVARS': True, 'CONFIG...    0.590726    YASA10   \n",
      "4  [{'CONFIG_CHRT': False, 'CONFIG_BOOTCHARTD': F...    1.415283      YASA   \n",
      "5  [{'CONFIG_GETCONF': False, 'CONFIG_REBOOT': Tr...    2.398097     YASA3   \n",
      "6  [{'CONFIG_RENICE': False, 'CONFIG_NL': True, '...    3.334403     YASA5   \n",
      "7  [{'CONFIG_TOYBOX_FORCE_NOMMU': False, 'CONFIG_...    5.716524    YASA10   \n",
      "\n",
      "   time_limit                    instance  \n",
      "0          10  toybox_2006-10-31_23-30-06  \n",
      "1          10  toybox_2006-10-31_23-30-06  \n",
      "2          10  toybox_2006-10-31_23-30-06  \n",
      "3          10  toybox_2006-10-31_23-30-06  \n",
      "4          10  toybox_2020-12-06_00-02-46  \n",
      "5          10  toybox_2020-12-06_00-02-46  \n",
      "6          10  toybox_2020-12-06_00-02-46  \n",
      "7          10  toybox_2020-12-06_00-02-46  \n"
     ]
    }
   ],
   "source": [
    "print(t)"
   ]
  },
  {
   "cell_type": "code",
   "execution_count": null,
   "id": "84ae14e7-4ea9-41b9-aab5-a90d2a467fd2",
   "metadata": {},
   "outputs": [],
   "source": []
  }
 ],
 "metadata": {
  "kernelspec": {
   "display_name": "Python 3 (ipykernel)",
   "language": "python",
   "name": "python3"
  },
  "language_info": {
   "codemirror_mode": {
    "name": "ipython",
    "version": 3
   },
   "file_extension": ".py",
   "mimetype": "text/x-python",
   "name": "python",
   "nbconvert_exporter": "python",
   "pygments_lexer": "ipython3",
   "version": "3.12.9"
  }
 },
 "nbformat": 4,
 "nbformat_minor": 5
}

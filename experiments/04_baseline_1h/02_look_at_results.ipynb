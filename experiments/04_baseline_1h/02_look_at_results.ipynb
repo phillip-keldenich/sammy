{
 "cells": [
  {
   "cell_type": "code",
   "execution_count": 1,
   "id": "39cc104e-9d39-49f3-a33b-9c0408d7458a",
   "metadata": {},
   "outputs": [],
   "source": [
    "from algbench import read_as_pandas"
   ]
  },
  {
   "cell_type": "code",
   "execution_count": 4,
   "id": "4e2f9fb0-95b2-4cdc-b243-2554663ee3ab",
   "metadata": {},
   "outputs": [],
   "source": [
    "def read_row(row):\n",
    "    return {\n",
    "        \"n_samples\": len(row[\"result\"][\"samples\"]) if row[\"result\"][\"samples\"] else None,\n",
    "        \"solve_time\": row[\"result\"][\"solve_time\"],\n",
    "        \"algorithm\": row[\"parameters\"][\"args\"][\"alg_params\"][\"algorithm\"],\n",
    "        \"time_limit\": row[\"parameters\"][\"args\"][\"alg_params\"][\"time_limit\"],\n",
    "        \"instance\": row[\"parameters\"][\"args\"][\"instance_name\"]\n",
    "}\n",
    "t = read_as_pandas(\"yasa_1h\", read_row)"
   ]
  },
  {
   "cell_type": "code",
   "execution_count": 5,
   "id": "b36afd76-c5df-4a50-b3de-58c2e5b87c5d",
   "metadata": {},
   "outputs": [
    {
     "name": "stdout",
     "output_type": "stream",
     "text": [
      "   n_samples   solve_time algorithm  time_limit                       instance\n",
      "0        NaN  3602.134069      yasa        3600                Automotive02_V1\n",
      "1      560.0  3603.737942      yasa        3600                 linux_2_6_28_6\n",
      "2        NaN  3602.717029      yasa        3600                Automotive02_V4\n",
      "3      563.0  3605.092808      yasa        3600                 linux_2_6_33_3\n",
      "4     1412.0  3603.480285      yasa        3600                   Automotive01\n",
      "5        NaN  3602.634793      yasa        3600                Automotive02_V3\n",
      "6        NaN  3602.355249      yasa        3600                Automotive02_V2\n",
      "7     4459.0  3647.791451      yasa        3600  financial-services-2018-04-23\n"
     ]
    }
   ],
   "source": [
    "print(t)"
   ]
  },
  {
   "cell_type": "code",
   "execution_count": 4,
   "id": "8aa04931-ff7c-48bf-b13d-9cc58f0cbeff",
   "metadata": {},
   "outputs": [],
   "source": [
    "def read_row_samplns(row):\n",
    "    return {\n",
    "        \"lower_bound\": row[\"result\"][\"lower_bound\"],\n",
    "        \"upper_bound\": row[\"result\"][\"upper_bound\"],\n",
    "        \"time_used_by_yasa\": row[\"result\"][\"time_used_by_yasa\"],\n",
    "        \"timelimit_for_samplns\": row[\"result\"][\"timelimit_for_samplns\"],\n",
    "        \"runtime\": row[\"runtime\"],\n",
    "        \"algorithm\": \"SampLNS + YASA\",\n",
    "        \"time_limit\": row[\"parameters\"][\"args\"][\"time_limit\"],\n",
    "        \"instance\": row[\"parameters\"][\"args\"][\"instance_name\"]\n",
    "}\n",
    "t = read_as_pandas(\"samplns_1h\", read_row_samplns)"
   ]
  },
  {
   "cell_type": "code",
   "execution_count": 6,
   "id": "07e38d22-1617-4612-86ba-6129bca688b7",
   "metadata": {},
   "outputs": [
    {
     "name": "stdout",
     "output_type": "stream",
     "text": [
      "    lower_bound  upper_bound                       instance\n",
      "0           267          520                 linux_2_6_28_6\n",
      "1           330          510                 linux_2_6_28_6\n",
      "2          4330         4353  financial-services-2018-04-23\n",
      "3           291          483                 linux_2_6_33_3\n",
      "4           333          486                 linux_2_6_33_3\n",
      "5          4328         4353  financial-services-2018-04-23\n",
      "6           309          483                 linux_2_6_33_3\n",
      "7           338          484                 linux_2_6_33_3\n",
      "8          4336         4354  financial-services-2018-04-23\n",
      "9          4324         4353  financial-services-2018-04-23\n",
      "10          262          483                 linux_2_6_33_3\n",
      "11         4322         4352  financial-services-2018-04-23\n",
      "12          340          511                 linux_2_6_28_6\n",
      "13          414          510                 linux_2_6_28_6\n",
      "14          327          514                 linux_2_6_28_6\n",
      "15          494          799                   Automotive01\n",
      "16          460          800                   Automotive01\n",
      "17          405          804                   Automotive01\n",
      "18          396          805                   Automotive01\n",
      "19          454          797                   Automotive01\n"
     ]
    }
   ],
   "source": [
    "print(t[[\"lower_bound\", \"upper_bound\", \"instance\"]])"
   ]
  },
  {
   "cell_type": "code",
   "execution_count": null,
   "id": "bd11c144-6f66-4768-be4c-844f66709f50",
   "metadata": {},
   "outputs": [],
   "source": []
  }
 ],
 "metadata": {
  "kernelspec": {
   "display_name": "Python 3 (ipykernel)",
   "language": "python",
   "name": "python3"
  },
  "language_info": {
   "codemirror_mode": {
    "name": "ipython",
    "version": 3
   },
   "file_extension": ".py",
   "mimetype": "text/x-python",
   "name": "python",
   "nbconvert_exporter": "python",
   "pygments_lexer": "ipython3",
   "version": "3.12.11"
  }
 },
 "nbformat": 4,
 "nbformat_minor": 5
}
